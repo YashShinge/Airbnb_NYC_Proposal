{
  "nbformat": 4,
  "nbformat_minor": 0,
  "metadata": {
    "colab": {
      "name": "NYC_Airbnb_Project_Proposal.ipynb",
      "provenance": [],
      "collapsed_sections": []
    },
    "kernelspec": {
      "name": "python3",
      "display_name": "Python 3"
    }
  },
  "cells": [
    {
      "cell_type": "markdown",
      "metadata": {
        "id": "UPfT54UocQEG",
        "colab_type": "text"
      },
      "source": [
        "#Airbnb_NY Open Data - Data_Incubator"
      ]
    },
    {
      "cell_type": "code",
      "metadata": {
        "id": "2ZkdK7xQTYFO",
        "colab_type": "code",
        "colab": {
          "base_uri": "https://localhost:8080/",
          "height": 122
        },
        "outputId": "7d4cee98-29e7-4ba3-bd71-b961fa717e0b"
      },
      "source": [
        "\n",
        "from google.colab import drive\n",
        "drive.mount('/content/drive')\n"
      ],
      "execution_count": 1,
      
      ]
    },
    {
      "cell_type": "code",
      "metadata": {
        "id": "VLPKY_udYdQ6",
        "colab_type": "code",
        "colab": {}
      },
      "source": [
        "import pandas as pd\n",
        "import numpy as np\n",
        "import matplotlib.pyplot as plt\n",
        "import seaborn as sns\n",
        "import os \n",
        "\n",
        "os.getcwd()\n",
        "path =  '/content/drive/My Drive/Data_Incubator/'\n",
        "\n",
        "os.chdir(path)"
      ],
      "execution_count": 0,
      "outputs": []
    },
    {
      "cell_type": "code",
      "metadata": {
        "id": "MQ8n8_n4Yg0H",
        "colab_type": "code",
        "colab": {
          "base_uri": "https://localhost:8080/",
          "height": 702
        },
        "outputId": "53c6a65a-b403-4f53-c929-b6980ca297e6"
      },
      "source": [
        "airbnb_ny = pd.read_csv(\"listings.csv\")\n",
        "airbnb_ny.head(10)"
      ],
      "execution_count": 4,
      "outputs": [
        {
          "output_type": "execute_result",
          "data": {
            "text/html": [
              "<div>\n",
              "<style scoped>\n",
              "    .dataframe tbody tr th:only-of-type {\n",
              "        vertical-align: middle;\n",
              "    }\n",
              "\n",
              "    .dataframe tbody tr th {\n",
              "        vertical-align: top;\n",
              "    }\n",
              "\n",
              "    .dataframe thead th {\n",
              "        text-align: right;\n",
              "    }\n",
              "</style>\n",
              "<table border=\"1\" class=\"dataframe\">\n",
              "  <thead>\n",
              "    <tr style=\"text-align: right;\">\n",
              "      <th></th>\n",
              "      <th>id</th>\n",
              "      <th>name</th>\n",
              "      <th>host_id</th>\n",
              "      <th>host_name</th>\n",
              "      <th>neighbourhood_group</th>\n",
              "      <th>neighbourhood</th>\n",
              "      <th>latitude</th>\n",
              "      <th>longitude</th>\n",
              "      <th>room_type</th>\n",
              "      <th>price</th>\n",
              "      <th>minimum_nights</th>\n",
              "      <th>number_of_reviews</th>\n",
              "      <th>last_review</th>\n",
              "      <th>reviews_per_month</th>\n",
              "      <th>calculated_host_listings_count</th>\n",
              "      <th>availability_365</th>\n",
              "    </tr>\n",
              "  </thead>\n",
              "  <tbody>\n",
              "    <tr>\n",
              "      <th>0</th>\n",
              "      <td>3647</td>\n",
              "      <td>THE VILLAGE OF HARLEM....NEW YORK !</td>\n",
              "      <td>4632</td>\n",
              "      <td>Elisabeth</td>\n",
              "      <td>Manhattan</td>\n",
              "      <td>Harlem</td>\n",
              "      <td>40.80902</td>\n",
              "      <td>-73.94190</td>\n",
              "      <td>Private room</td>\n",
              "      <td>150</td>\n",
              "      <td>3</td>\n",
              "      <td>0</td>\n",
              "      <td>NaN</td>\n",
              "      <td>NaN</td>\n",
              "      <td>1</td>\n",
              "      <td>365</td>\n",
              "    </tr>\n",
              "    <tr>\n",
              "      <th>1</th>\n",
              "      <td>3831</td>\n",
              "      <td>Cozy Entire Floor of Brownstone</td>\n",
              "      <td>4869</td>\n",
              "      <td>LisaRoxanne</td>\n",
              "      <td>Brooklyn</td>\n",
              "      <td>Clinton Hill</td>\n",
              "      <td>40.68514</td>\n",
              "      <td>-73.95976</td>\n",
              "      <td>Entire home/apt</td>\n",
              "      <td>89</td>\n",
              "      <td>1</td>\n",
              "      <td>279</td>\n",
              "      <td>2019-08-29</td>\n",
              "      <td>4.62</td>\n",
              "      <td>1</td>\n",
              "      <td>192</td>\n",
              "    </tr>\n",
              "    <tr>\n",
              "      <th>2</th>\n",
              "      <td>5022</td>\n",
              "      <td>Entire Apt: Spacious Studio/Loft by central park</td>\n",
              "      <td>7192</td>\n",
              "      <td>Laura</td>\n",
              "      <td>Manhattan</td>\n",
              "      <td>East Harlem</td>\n",
              "      <td>40.79851</td>\n",
              "      <td>-73.94399</td>\n",
              "      <td>Entire home/apt</td>\n",
              "      <td>80</td>\n",
              "      <td>10</td>\n",
              "      <td>9</td>\n",
              "      <td>2018-11-19</td>\n",
              "      <td>0.10</td>\n",
              "      <td>1</td>\n",
              "      <td>0</td>\n",
              "    </tr>\n",
              "    <tr>\n",
              "      <th>3</th>\n",
              "      <td>5099</td>\n",
              "      <td>Large Cozy 1 BR Apartment In Midtown East</td>\n",
              "      <td>7322</td>\n",
              "      <td>Chris</td>\n",
              "      <td>Manhattan</td>\n",
              "      <td>Murray Hill</td>\n",
              "      <td>40.74767</td>\n",
              "      <td>-73.97500</td>\n",
              "      <td>Entire home/apt</td>\n",
              "      <td>200</td>\n",
              "      <td>3</td>\n",
              "      <td>75</td>\n",
              "      <td>2019-07-21</td>\n",
              "      <td>0.59</td>\n",
              "      <td>1</td>\n",
              "      <td>13</td>\n",
              "    </tr>\n",
              "    <tr>\n",
              "      <th>4</th>\n",
              "      <td>5121</td>\n",
              "      <td>BlissArtsSpace!</td>\n",
              "      <td>7356</td>\n",
              "      <td>Garon</td>\n",
              "      <td>Brooklyn</td>\n",
              "      <td>Bedford-Stuyvesant</td>\n",
              "      <td>40.68688</td>\n",
              "      <td>-73.95596</td>\n",
              "      <td>Private room</td>\n",
              "      <td>60</td>\n",
              "      <td>45</td>\n",
              "      <td>49</td>\n",
              "      <td>2017-10-05</td>\n",
              "      <td>0.39</td>\n",
              "      <td>1</td>\n",
              "      <td>0</td>\n",
              "    </tr>\n",
              "    <tr>\n",
              "      <th>5</th>\n",
              "      <td>5178</td>\n",
              "      <td>Large Furnished Room Near B'way</td>\n",
              "      <td>8967</td>\n",
              "      <td>Shunichi</td>\n",
              "      <td>Manhattan</td>\n",
              "      <td>Hell's Kitchen</td>\n",
              "      <td>40.76489</td>\n",
              "      <td>-73.98493</td>\n",
              "      <td>Private room</td>\n",
              "      <td>79</td>\n",
              "      <td>2</td>\n",
              "      <td>443</td>\n",
              "      <td>2019-08-27</td>\n",
              "      <td>3.51</td>\n",
              "      <td>1</td>\n",
              "      <td>246</td>\n",
              "    </tr>\n",
              "    <tr>\n",
              "      <th>6</th>\n",
              "      <td>5203</td>\n",
              "      <td>Cozy Clean Guest Room - Family Apt</td>\n",
              "      <td>7490</td>\n",
              "      <td>MaryEllen</td>\n",
              "      <td>Manhattan</td>\n",
              "      <td>Upper West Side</td>\n",
              "      <td>40.80178</td>\n",
              "      <td>-73.96723</td>\n",
              "      <td>Private room</td>\n",
              "      <td>79</td>\n",
              "      <td>2</td>\n",
              "      <td>118</td>\n",
              "      <td>2017-07-21</td>\n",
              "      <td>0.97</td>\n",
              "      <td>1</td>\n",
              "      <td>0</td>\n",
              "    </tr>\n",
              "    <tr>\n",
              "      <th>7</th>\n",
              "      <td>5222</td>\n",
              "      <td>Best Hideaway</td>\n",
              "      <td>7516</td>\n",
              "      <td>Marilyn</td>\n",
              "      <td>Manhattan</td>\n",
              "      <td>East Village</td>\n",
              "      <td>40.72764</td>\n",
              "      <td>-73.97949</td>\n",
              "      <td>Entire home/apt</td>\n",
              "      <td>116</td>\n",
              "      <td>30</td>\n",
              "      <td>94</td>\n",
              "      <td>2016-06-15</td>\n",
              "      <td>0.73</td>\n",
              "      <td>1</td>\n",
              "      <td>347</td>\n",
              "    </tr>\n",
              "    <tr>\n",
              "      <th>8</th>\n",
              "      <td>5238</td>\n",
              "      <td>Cute &amp; Cozy Lower East Side 1 bdrm</td>\n",
              "      <td>7549</td>\n",
              "      <td>Ben</td>\n",
              "      <td>Manhattan</td>\n",
              "      <td>Chinatown</td>\n",
              "      <td>40.71344</td>\n",
              "      <td>-73.99037</td>\n",
              "      <td>Entire home/apt</td>\n",
              "      <td>150</td>\n",
              "      <td>1</td>\n",
              "      <td>161</td>\n",
              "      <td>2019-07-29</td>\n",
              "      <td>1.32</td>\n",
              "      <td>4</td>\n",
              "      <td>0</td>\n",
              "    </tr>\n",
              "    <tr>\n",
              "      <th>9</th>\n",
              "      <td>5295</td>\n",
              "      <td>Beautiful 1br on Upper West Side</td>\n",
              "      <td>7702</td>\n",
              "      <td>Lena</td>\n",
              "      <td>Manhattan</td>\n",
              "      <td>Upper West Side</td>\n",
              "      <td>40.80316</td>\n",
              "      <td>-73.96545</td>\n",
              "      <td>Entire home/apt</td>\n",
              "      <td>135</td>\n",
              "      <td>5</td>\n",
              "      <td>54</td>\n",
              "      <td>2019-08-03</td>\n",
              "      <td>0.43</td>\n",
              "      <td>1</td>\n",
              "      <td>40</td>\n",
              "    </tr>\n",
              "  </tbody>\n",
              "</table>\n",
              "</div>"
            ],
            "text/plain": [
              "     id  ... availability_365\n",
              "0  3647  ...              365\n",
              "1  3831  ...              192\n",
              "2  5022  ...                0\n",
              "3  5099  ...               13\n",
              "4  5121  ...                0\n",
              "5  5178  ...              246\n",
              "6  5203  ...                0\n",
              "7  5222  ...              347\n",
              "8  5238  ...                0\n",
              "9  5295  ...               40\n",
              "\n",
              "[10 rows x 16 columns]"
            ]
          },
          "metadata": {
            "tags": []
          },
          "execution_count": 4
        }
      ]
    },
    {
      "cell_type": "code",
      "metadata": {
        "id": "sVwqqTZYcn-t",
        "colab_type": "code",
        "colab": {
          "base_uri": "https://localhost:8080/",
          "height": 306
        },
        "outputId": "fced08cc-cc7e-411e-ed26-511f5cdc715b"
      },
      "source": [
        "# Check for null values : \n",
        "\n",
        "airbnb_ny.isnull().sum()"
      ],
      "execution_count": 5,
      "outputs": [
        {
          "output_type": "execute_result",
          "data": {
            "text/plain": [
              "id                                   0\n",
              "name                                17\n",
              "host_id                              0\n",
              "host_name                           22\n",
              "neighbourhood_group                  0\n",
              "neighbourhood                        0\n",
              "latitude                             0\n",
              "longitude                            0\n",
              "room_type                            0\n",
              "price                                0\n",
              "minimum_nights                       0\n",
              "number_of_reviews                    0\n",
              "last_review                       9651\n",
              "reviews_per_month                 9651\n",
              "calculated_host_listings_count       0\n",
              "availability_365                     0\n",
              "dtype: int64"
            ]
          },
          "metadata": {
            "tags": []
          },
          "execution_count": 5
        }
      ]
    },
    {
      "cell_type": "code",
      "metadata": {
        "id": "qQzI1XrtcyUy",
        "colab_type": "code",
        "colab": {
          "base_uri": "https://localhost:8080/",
          "height": 34
        },
        "outputId": "e33ddc80-f6ce-4d29-a57d-187cd5725a9e"
      },
      "source": [
        "airbnb_ny.shape"
      ],
      "execution_count": 6,
      "outputs": [
        {
          "output_type": "execute_result",
          "data": {
            "text/plain": [
              "(48377, 16)"
            ]
          },
          "metadata": {
            "tags": []
          },
          "execution_count": 6
        }
      ]
    },
    {
      "cell_type": "code",
      "metadata": {
        "id": "7TRVlXNHdBKF",
        "colab_type": "code",
        "colab": {
          "base_uri": "https://localhost:8080/",
          "height": 513
        },
        "outputId": "940648f9-5dac-45fb-c907-cb750a478846"
      },
      "source": [
        "plt.figure(figsize=(14,8))\n",
        "sns.distplot(airbnb_ny[airbnb_ny.neighbourhood_group=='Manhattan'].price,color='black',hist=False,label='Manhattan')\n",
        "sns.distplot(airbnb_ny[airbnb_ny.neighbourhood_group=='Brooklyn'].price,color='green',hist=False,label='Brooklyn')\n",
        "sns.distplot(airbnb_ny[airbnb_ny.neighbourhood_group=='Queens'].price,color='blue',hist=False,label='Queens')\n",
        "sns.distplot(airbnb_ny[airbnb_ny.neighbourhood_group=='Staten Island'].price,color='maroon',hist=False,label='Staten Island')\n",
        "sns.distplot(airbnb_ny[airbnb_ny.neighbourhood_group=='Long Island'].price,color='red',hist=False,label='Long Island')\n",
        "plt.title('Borough wise price destribution for price<2000')\n",
        "plt.xlim(0,2000)\n",
        "plt.show()"
      ],
      "execution_count": 16,
      "outputs": [
        {
          "output_type": "display_data",
          "data": {
            "image/png": "iVBORw0KGgoAAAANSUhEUgAAA0sAAAHwCAYAAAB31vTpAAAABHNCSVQICAgIfAhkiAAAAAlwSFlz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\nTkSuQmCC\n",
            "text/plain": [
              "<Figure size 1008x576 with 1 Axes>"
            ]
          },
          "metadata": {
            "tags": []
          }
        }
      ]
    },
    {
      "cell_type": "code",
      "metadata": {
        "id": "wjsqOE2OdMiS",
        "colab_type": "code",
        "colab": {
          "base_uri": "https://localhost:8080/",
          "height": 406
        },
        "outputId": "e1ca6f94-63df-4fae-fdc5-0536f226fab6"
      },
      "source": [
        "plt.figure(figsize=(15, 6))\n",
        "sns.barplot(x='neighbourhood_group', y='price', hue='room_type',data=airbnb_ny)"
      ],
      "execution_count": 14,
      "outputs": [
        {
          "output_type": "execute_result",
          "data": {
            "text/plain": [
              "<matplotlib.axes._subplots.AxesSubplot at 0x7f3e8b2ff710>"
            ]
          },
          "metadata": {
            "tags": []
          },
          "execution_count": 14
        },
        {
          "output_type": "display_data",
          "data": {
            "image/png": "iVBORw0KGgoAAAANSUhEUgAAA3sAAAF0CAYAAACaBCAfAAAABHNCSVQICAgIfAhkiAAAAAlwSFlz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\n",
            "text/plain": [
              "<Figure size 1080x432 with 1 Axes>"
            ]
          },
          "metadata": {
            "tags": []
          }
        }
      ]
    },
    {
      "cell_type": "code",
      "metadata": {
        "id": "qlkqmjl5m1k-",
        "colab_type": "code",
        "colab": {}
      },
      "source": [
        ""
      ],
      "execution_count": 0,
      "outputs": []
    }
  ]
}
